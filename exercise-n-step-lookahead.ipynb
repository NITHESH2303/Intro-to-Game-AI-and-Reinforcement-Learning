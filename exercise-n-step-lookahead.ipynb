{
 "cells": [
  {
   "cell_type": "markdown",
   "id": "ede4c5de",
   "metadata": {
    "papermill": {
     "duration": 0.006441,
     "end_time": "2023-03-19T10:08:53.924006",
     "exception": false,
     "start_time": "2023-03-19T10:08:53.917565",
     "status": "completed"
    },
    "tags": []
   },
   "source": [
    "**This notebook is an exercise in the [Intro to Game AI and Reinforcement Learning](https://www.kaggle.com/learn/intro-to-game-ai-and-reinforcement-learning) course.  You can reference the tutorial at [this link](https://www.kaggle.com/alexisbcook/n-step-lookahead).**\n",
    "\n",
    "---\n"
   ]
  },
  {
   "cell_type": "markdown",
   "id": "0da2f004",
   "metadata": {
    "papermill": {
     "duration": 0.00482,
     "end_time": "2023-03-19T10:08:53.934226",
     "exception": false,
     "start_time": "2023-03-19T10:08:53.929406",
     "status": "completed"
    },
    "tags": []
   },
   "source": [
    "# Introduction\n",
    "\n",
    "In the tutorial, you learned how to build a reasonably intelligent agent with the minimax algorithm.  In this exercise, you will check your understanding and submit your own agent to the competition."
   ]
  },
  {
   "cell_type": "code",
   "execution_count": 1,
   "id": "808152ee",
   "metadata": {
    "execution": {
     "iopub.execute_input": "2023-03-19T10:08:53.946983Z",
     "iopub.status.busy": "2023-03-19T10:08:53.946301Z",
     "iopub.status.idle": "2023-03-19T10:08:54.001651Z",
     "shell.execute_reply": "2023-03-19T10:08:54.000055Z"
    },
    "papermill": {
     "duration": 0.065688,
     "end_time": "2023-03-19T10:08:54.005156",
     "exception": false,
     "start_time": "2023-03-19T10:08:53.939468",
     "status": "completed"
    },
    "tags": []
   },
   "outputs": [],
   "source": [
    "from learntools.core import binder\n",
    "binder.bind(globals())\n",
    "from learntools.game_ai.ex3 import *"
   ]
  },
  {
   "cell_type": "markdown",
   "id": "d238e843",
   "metadata": {
    "papermill": {
     "duration": 0.007594,
     "end_time": "2023-03-19T10:08:54.021013",
     "exception": false,
     "start_time": "2023-03-19T10:08:54.013419",
     "status": "completed"
    },
    "tags": []
   },
   "source": [
    "### 1) A closer look\n",
    "\n",
    "The heuristic from the tutorial looks at all groups of four adjacent grid locations on the same row, column, or diagonal and assigns points for each occurrence of the following patterns:\n",
    "\n",
    "<center>\n",
    "<img src=\"https://i.imgur.com/3NvBEGL.png\" width=70%><br/>\n",
    "</center>\n",
    "\n",
    "Is it really necessary to use so many numbers to define the heuristic?  Consider simplifying it, as in the image below.\n",
    "\n",
    "<center>\n",
    "<img src=\"https://i.imgur.com/grViegG.png\" width=70%><br/>\n",
    "</center>\n",
    "\n",
    "How would each heuristic score the potential moves in the example below (where, in this case, the agent looks only one step ahead)?  Which heuristic would lead to the agent selecting the better move?\n",
    "\n",
    "<center>\n",
    "<img src=\"https://i.imgur.com/LWPLy7N.png\" width=100%><br/>\n",
    "</center>"
   ]
  },
  {
   "cell_type": "code",
   "execution_count": 2,
   "id": "5daabc86",
   "metadata": {
    "execution": {
     "iopub.execute_input": "2023-03-19T10:08:54.038397Z",
     "iopub.status.busy": "2023-03-19T10:08:54.037513Z",
     "iopub.status.idle": "2023-03-19T10:08:54.042877Z",
     "shell.execute_reply": "2023-03-19T10:08:54.041613Z"
    },
    "papermill": {
     "duration": 0.016271,
     "end_time": "2023-03-19T10:08:54.045237",
     "exception": false,
     "start_time": "2023-03-19T10:08:54.028966",
     "status": "completed"
    },
    "tags": []
   },
   "outputs": [],
   "source": [
    "#q_1.hint()"
   ]
  },
  {
   "cell_type": "code",
   "execution_count": 3,
   "id": "a08c977b",
   "metadata": {
    "execution": {
     "iopub.execute_input": "2023-03-19T10:08:54.061652Z",
     "iopub.status.busy": "2023-03-19T10:08:54.060780Z",
     "iopub.status.idle": "2023-03-19T10:08:54.073294Z",
     "shell.execute_reply": "2023-03-19T10:08:54.072199Z"
    },
    "papermill": {
     "duration": 0.025761,
     "end_time": "2023-03-19T10:08:54.076307",
     "exception": false,
     "start_time": "2023-03-19T10:08:54.050546",
     "status": "completed"
    },
    "tags": []
   },
   "outputs": [
    {
     "data": {
      "application/javascript": [
       "parent.postMessage({\"jupyterEvent\": \"custom.exercise_interaction\", \"data\": {\"interactionType\": 3, \"questionType\": 4, \"questionId\": \"1_WorseHeuristic\", \"learnToolsVersion\": \"0.3.4\", \"valueTowardsCompletion\": 0.0, \"failureMessage\": \"\", \"exceptionClass\": \"\", \"trace\": \"\", \"outcomeType\": 4}}, \"*\")"
      ],
      "text/plain": [
       "<IPython.core.display.Javascript object>"
      ]
     },
     "metadata": {},
     "output_type": "display_data"
    },
    {
     "data": {
      "text/markdown": [
       "<span style=\"color:#33cc99\">Solution:</span> The first heuristic is guaranteed to select column 2 to block the opponent from winning.  The second heuristic selects either column 2 or column 3 (where it selects each with 50% probability). Thus, for this game board, the first heuristic is better. In general, we can expect that the first heuristic is a better heuristic, since we cannot trust the second heuristic to block the opponent from winning."
      ],
      "text/plain": [
       "Solution: The first heuristic is guaranteed to select column 2 to block the opponent from winning.  The second heuristic selects either column 2 or column 3 (where it selects each with 50% probability). Thus, for this game board, the first heuristic is better. In general, we can expect that the first heuristic is a better heuristic, since we cannot trust the second heuristic to block the opponent from winning."
      ]
     },
     "metadata": {},
     "output_type": "display_data"
    }
   ],
   "source": [
    "# Check your answer (Run this code cell to receive credit!)\n",
    "q_1.solution()"
   ]
  },
  {
   "cell_type": "markdown",
   "id": "c738d1de",
   "metadata": {
    "papermill": {
     "duration": 0.006436,
     "end_time": "2023-03-19T10:08:54.090806",
     "exception": false,
     "start_time": "2023-03-19T10:08:54.084370",
     "status": "completed"
    },
    "tags": []
   },
   "source": [
    "### 2) Count the leaves\n",
    "\n",
    "In the tutorial, we worked with a small game tree.\n",
    "\n",
    "<center>\n",
    "<img src=\"https://i.imgur.com/BrRe7Bu.png\" width=90%><br/>\n",
    "</center>\n",
    "\n",
    "The game tree above has 8 leaf nodes that appear at the bottom of the tree.  By definition, \"leaf nodes\" in a game tree are nodes that don't have nodes below them.\n",
    "\n",
    "In the ConnectX competition, the game trees will be much larger!  \n",
    "\n",
    "To see this, consider a minimax agent that is trying to plan its first move, where all columns in the game board are  empty.  Say the agent builds a game tree of depth 3.  How many leaf nodes are in the game tree?  \n",
    "\n",
    "Use your answer to fill in the blank below."
   ]
  },
  {
   "cell_type": "code",
   "execution_count": 4,
   "id": "3f665fa1",
   "metadata": {
    "execution": {
     "iopub.execute_input": "2023-03-19T10:08:54.104489Z",
     "iopub.status.busy": "2023-03-19T10:08:54.103488Z",
     "iopub.status.idle": "2023-03-19T10:08:54.115443Z",
     "shell.execute_reply": "2023-03-19T10:08:54.114155Z"
    },
    "papermill": {
     "duration": 0.021671,
     "end_time": "2023-03-19T10:08:54.118127",
     "exception": false,
     "start_time": "2023-03-19T10:08:54.096456",
     "status": "completed"
    },
    "tags": []
   },
   "outputs": [
    {
     "data": {
      "application/javascript": [
       "parent.postMessage({\"jupyterEvent\": \"custom.exercise_interaction\", \"data\": {\"outcomeType\": 1, \"valueTowardsCompletion\": 0.2, \"interactionType\": 1, \"questionType\": 1, \"questionId\": \"2_NumLeaves\", \"learnToolsVersion\": \"0.3.4\", \"failureMessage\": \"\", \"exceptionClass\": \"\", \"trace\": \"\"}}, \"*\")"
      ],
      "text/plain": [
       "<IPython.core.display.Javascript object>"
      ]
     },
     "metadata": {},
     "output_type": "display_data"
    },
    {
     "data": {
      "text/markdown": [
       "<span style=\"color:#33cc33\">Correct</span>"
      ],
      "text/plain": [
       "Correct"
      ]
     },
     "metadata": {},
     "output_type": "display_data"
    }
   ],
   "source": [
    "# Fill in the blank\n",
    "num_leaves = 7*7*7\n",
    "\n",
    "# Check your answer\n",
    "q_2.check()"
   ]
  },
  {
   "cell_type": "code",
   "execution_count": 5,
   "id": "cbabebb5",
   "metadata": {
    "execution": {
     "iopub.execute_input": "2023-03-19T10:08:54.133076Z",
     "iopub.status.busy": "2023-03-19T10:08:54.131681Z",
     "iopub.status.idle": "2023-03-19T10:08:54.137642Z",
     "shell.execute_reply": "2023-03-19T10:08:54.136384Z"
    },
    "papermill": {
     "duration": 0.016199,
     "end_time": "2023-03-19T10:08:54.140317",
     "exception": false,
     "start_time": "2023-03-19T10:08:54.124118",
     "status": "completed"
    },
    "tags": []
   },
   "outputs": [],
   "source": [
    "# Lines below will give you a hint or solution code\n",
    "# q_2.hint()\n",
    "# q_2.solution()"
   ]
  },
  {
   "cell_type": "markdown",
   "id": "21d9edfa",
   "metadata": {
    "papermill": {
     "duration": 0.005882,
     "end_time": "2023-03-19T10:08:54.152236",
     "exception": false,
     "start_time": "2023-03-19T10:08:54.146354",
     "status": "completed"
    },
    "tags": []
   },
   "source": [
    "### 3) Which move will the agent select?\n",
    "\n",
    "In this question, you'll check your understanding of the minimax algorithm.  Remember that with this algorithm, \n",
    "> The agent chooses moves to get a score that is as high as possible, and it assumes the opponent will counteract this by choosing moves to force the score to be as low as possible.\n",
    "\n",
    "Consider the toy example below of a game tree that the agent will use to select its next move.  \n",
    "<center>\n",
    "<img src=\"https://i.imgur.com/QlfWGM9.png\" width=80%><br/>\n",
    "</center>\n",
    "\n",
    "Which move will the agent select?  Use your answer to set the value of the `selected_move` variable below.  Your answer should be one of `1`, `2`, or `3`."
   ]
  },
  {
   "cell_type": "code",
   "execution_count": 6,
   "id": "00103bc7",
   "metadata": {
    "execution": {
     "iopub.execute_input": "2023-03-19T10:08:54.167343Z",
     "iopub.status.busy": "2023-03-19T10:08:54.166195Z",
     "iopub.status.idle": "2023-03-19T10:08:54.183505Z",
     "shell.execute_reply": "2023-03-19T10:08:54.182356Z"
    },
    "papermill": {
     "duration": 0.028268,
     "end_time": "2023-03-19T10:08:54.186678",
     "exception": false,
     "start_time": "2023-03-19T10:08:54.158410",
     "status": "completed"
    },
    "tags": []
   },
   "outputs": [
    {
     "data": {
      "application/javascript": [
       "parent.postMessage({\"jupyterEvent\": \"custom.exercise_interaction\", \"data\": {\"outcomeType\": 1, \"valueTowardsCompletion\": 0.2, \"interactionType\": 1, \"questionType\": 2, \"questionId\": \"3_WhichMove\", \"learnToolsVersion\": \"0.3.4\", \"failureMessage\": \"\", \"exceptionClass\": \"\", \"trace\": \"\"}}, \"*\")"
      ],
      "text/plain": [
       "<IPython.core.display.Javascript object>"
      ]
     },
     "metadata": {},
     "output_type": "display_data"
    },
    {
     "data": {
      "text/markdown": [
       "<span style=\"color:#33cc33\">Correct</span>"
      ],
      "text/plain": [
       "Correct"
      ]
     },
     "metadata": {},
     "output_type": "display_data"
    }
   ],
   "source": [
    "# Fill in the blank\n",
    "selected_move = 3\n",
    "\n",
    "# Check your answer\n",
    "q_3.check()"
   ]
  },
  {
   "cell_type": "code",
   "execution_count": 7,
   "id": "f6294019",
   "metadata": {
    "execution": {
     "iopub.execute_input": "2023-03-19T10:08:54.208824Z",
     "iopub.status.busy": "2023-03-19T10:08:54.207740Z",
     "iopub.status.idle": "2023-03-19T10:08:54.213147Z",
     "shell.execute_reply": "2023-03-19T10:08:54.211957Z"
    },
    "papermill": {
     "duration": 0.019931,
     "end_time": "2023-03-19T10:08:54.215638",
     "exception": false,
     "start_time": "2023-03-19T10:08:54.195707",
     "status": "completed"
    },
    "tags": []
   },
   "outputs": [],
   "source": [
    "# Lines below will give you a hint or solution code\n",
    "# q_3.hint()\n",
    "# q_3.solution()"
   ]
  },
  {
   "cell_type": "markdown",
   "id": "d332029d",
   "metadata": {
    "papermill": {
     "duration": 0.005807,
     "end_time": "2023-03-19T10:08:54.227511",
     "exception": false,
     "start_time": "2023-03-19T10:08:54.221704",
     "status": "completed"
    },
    "tags": []
   },
   "source": [
    "### 4) Examine the assumptions\n",
    "\n",
    "The minimax agent assumes that its opponent plays optimally (with respect to the heuristic, and using a game tree of limited depth).  But this is almost never the case, in practice: it's far more likely for the agent to encounter a suboptimal (that is: worse than optimal) opponent.  \n",
    "\n",
    "Say the minimax agent encounters a suboptimal opponent. Should we expect the minimax agent to still play the game well, despite the contradiction with its assumptions?  If so, why?"
   ]
  },
  {
   "cell_type": "code",
   "execution_count": 8,
   "id": "0d54983e",
   "metadata": {
    "execution": {
     "iopub.execute_input": "2023-03-19T10:08:54.242098Z",
     "iopub.status.busy": "2023-03-19T10:08:54.241092Z",
     "iopub.status.idle": "2023-03-19T10:08:54.246217Z",
     "shell.execute_reply": "2023-03-19T10:08:54.245114Z"
    },
    "papermill": {
     "duration": 0.015255,
     "end_time": "2023-03-19T10:08:54.248653",
     "exception": false,
     "start_time": "2023-03-19T10:08:54.233398",
     "status": "completed"
    },
    "tags": []
   },
   "outputs": [],
   "source": [
    "#q_4.hint()"
   ]
  },
  {
   "cell_type": "code",
   "execution_count": 9,
   "id": "3b89ae44",
   "metadata": {
    "execution": {
     "iopub.execute_input": "2023-03-19T10:08:54.262798Z",
     "iopub.status.busy": "2023-03-19T10:08:54.262346Z",
     "iopub.status.idle": "2023-03-19T10:08:54.273022Z",
     "shell.execute_reply": "2023-03-19T10:08:54.271488Z"
    },
    "papermill": {
     "duration": 0.021003,
     "end_time": "2023-03-19T10:08:54.275601",
     "exception": false,
     "start_time": "2023-03-19T10:08:54.254598",
     "status": "completed"
    },
    "tags": []
   },
   "outputs": [
    {
     "data": {
      "application/javascript": [
       "parent.postMessage({\"jupyterEvent\": \"custom.exercise_interaction\", \"data\": {\"interactionType\": 3, \"questionType\": 4, \"questionId\": \"4_Assumptions\", \"learnToolsVersion\": \"0.3.4\", \"valueTowardsCompletion\": 0.0, \"failureMessage\": \"\", \"exceptionClass\": \"\", \"trace\": \"\", \"outcomeType\": 4}}, \"*\")"
      ],
      "text/plain": [
       "<IPython.core.display.Javascript object>"
      ]
     },
     "metadata": {},
     "output_type": "display_data"
    },
    {
     "data": {
      "text/markdown": [
       "<span style=\"color:#33cc99\">Solution:</span> We can still expect the minimax agent to perform well. On a high level, assuming an optimal opponent simply overestimates the opponent, but does not break the algorithm.  The effect of overestimating the opponent is merely that the minimax agent will take longer to win, than if it had a more accurate understanding of its opponent.  For instance, the minimax agent is highly unlikely to select the same column three times in its first three moves (since it assumes an optimal opponent that will certainly block the winning play in the next move), but this is not a bad initial strategy for playing against an agent that selects columns completely at random."
      ],
      "text/plain": [
       "Solution: We can still expect the minimax agent to perform well. On a high level, assuming an optimal opponent simply overestimates the opponent, but does not break the algorithm.  The effect of overestimating the opponent is merely that the minimax agent will take longer to win, than if it had a more accurate understanding of its opponent.  For instance, the minimax agent is highly unlikely to select the same column three times in its first three moves (since it assumes an optimal opponent that will certainly block the winning play in the next move), but this is not a bad initial strategy for playing against an agent that selects columns completely at random."
      ]
     },
     "metadata": {},
     "output_type": "display_data"
    }
   ],
   "source": [
    "# Check your answer (Run this code cell to receive credit!)\n",
    "q_4.solution()"
   ]
  },
  {
   "cell_type": "markdown",
   "id": "958684d1",
   "metadata": {
    "papermill": {
     "duration": 0.00641,
     "end_time": "2023-03-19T10:08:54.288751",
     "exception": false,
     "start_time": "2023-03-19T10:08:54.282341",
     "status": "completed"
    },
    "tags": []
   },
   "source": [
    "### 5) Submit to the competition\n",
    "\n",
    "Now, it's time to submit an agent to the competition!  Use the next code cell to define an agent.  (You can see an example of how to write a valid agent in **[this notebook](https://www.kaggle.com/alexisbcook/create-a-connectx-agent)**.)\n",
    "\n",
    "If you decide to use the minimax code from the tutorial, you might like to add [**alpha-beta pruning**](https://en.wikipedia.org/wiki/Alpha%E2%80%93beta_pruning) to decrease the computation time (i.e., get the minimax algorithm to run much faster!).  In this case, \"alpha\" and \"beta\" to refer to two values that are maintained while the algorithm is running, that help to identify early stopping conditions.  \n",
    "\n",
    "Without alpha-beta pruning, minimax evaluates each leaf node.  With alpha-beta pruning, minimax only evaluates nodes that could provide information that affects the agent's choice of action.  Put another way, it identifies nodes that could not possibly affect the final result and avoids evaluating them."
   ]
  },
  {
   "cell_type": "code",
   "execution_count": 10,
   "id": "95b561ad",
   "metadata": {
    "execution": {
     "iopub.execute_input": "2023-03-19T10:08:54.304615Z",
     "iopub.status.busy": "2023-03-19T10:08:54.303216Z",
     "iopub.status.idle": "2023-03-19T10:08:54.326884Z",
     "shell.execute_reply": "2023-03-19T10:08:54.325054Z"
    },
    "papermill": {
     "duration": 0.034716,
     "end_time": "2023-03-19T10:08:54.329705",
     "exception": false,
     "start_time": "2023-03-19T10:08:54.294989",
     "status": "completed"
    },
    "tags": []
   },
   "outputs": [],
   "source": [
    "import numpy as np\n",
    "import random\n",
    "\n",
    "def my_agent(obs, config):\n",
    "    # Your code here: Amend the agent!\n",
    "    def drop_piece(grid,col,piece,config):\n",
    "        next_grid = grid.copy()\n",
    "        for row in range(config.rows-1,-1,-1):\n",
    "            if(next_grid[row][col]==0):\n",
    "                break\n",
    "        next_grid[row][col] = piece\n",
    "        return next_grid\n",
    "    \n",
    "    def check_winning_move(obs,config,col,piece):\n",
    "        grid = np.asarray(obs.board).reshape(config.rows,config.columns)\n",
    "        next_grid = drop_piece(grid,col,piece,config)\n",
    "        #horizontal\n",
    "        for row in range(config.rows):\n",
    "            for col in range(config.columns - (config.inarow-1)):\n",
    "                window = list(next_grid[row,col:col+config.inarow])\n",
    "                if window.count(piece) == config.inarow:\n",
    "                    return True\n",
    "        #verical\n",
    "        for row in range(config.rows - (config.inarow-1)):\n",
    "            for col in range(config.columns - (config.inarow-1)):\n",
    "                window = list(next_grid[row:row+config.inarow,col])\n",
    "                if window.count(piece) == config.inarow:\n",
    "                    return True\n",
    "        # positive diagonal\n",
    "        for row in range(config.rows-(config.inarow-1)):\n",
    "            for col in range(config.columns-(config.inarow-1)):\n",
    "                window = list(next_grid[range(row, row+config.inarow), range(col, col+config.inarow)])\n",
    "                if window.count(piece) == config.inarow:\n",
    "                    return True\n",
    "        # negative diagonal\n",
    "        for row in range(config.inarow-1, config.rows):\n",
    "            for col in range(config.columns-(config.inarow-1)):\n",
    "                window = list(next_grid[range(row, row-config.inarow, -1), range(col, col+config.inarow)])\n",
    "                if window.count(piece) == config.inarow:\n",
    "                    return True\n",
    "        return False\n",
    "    \n",
    "    valid_moves = [col for col in range(config.columns) if obs.board[col] == 0]\n",
    "    for col in valid_moves:\n",
    "        if(check_wining_move(obs,config,col,obs.mark)):\n",
    "            return col\n",
    "    return random.choice(valid_moves)"
   ]
  },
  {
   "cell_type": "code",
   "execution_count": 11,
   "id": "d02abddd",
   "metadata": {
    "execution": {
     "iopub.execute_input": "2023-03-19T10:08:54.344841Z",
     "iopub.status.busy": "2023-03-19T10:08:54.343938Z",
     "iopub.status.idle": "2023-03-19T10:08:54.353680Z",
     "shell.execute_reply": "2023-03-19T10:08:54.352798Z"
    },
    "papermill": {
     "duration": 0.020014,
     "end_time": "2023-03-19T10:08:54.355902",
     "exception": false,
     "start_time": "2023-03-19T10:08:54.335888",
     "status": "completed"
    },
    "tags": []
   },
   "outputs": [
    {
     "data": {
      "application/javascript": [
       "parent.postMessage({\"jupyterEvent\": \"custom.exercise_interaction\", \"data\": {\"outcomeType\": 1, \"valueTowardsCompletion\": 0.2, \"interactionType\": 1, \"questionType\": 2, \"questionId\": \"5_JustSubmitEx3\", \"learnToolsVersion\": \"0.3.4\", \"failureMessage\": \"\", \"exceptionClass\": \"\", \"trace\": \"\"}}, \"*\")"
      ],
      "text/plain": [
       "<IPython.core.display.Javascript object>"
      ]
     },
     "metadata": {},
     "output_type": "display_data"
    },
    {
     "data": {
      "text/markdown": [
       "<span style=\"color:#33cc33\">Thank you for creating an agent!</span>"
      ],
      "text/plain": [
       "Thank you for creating an agent!"
      ]
     },
     "metadata": {},
     "output_type": "display_data"
    }
   ],
   "source": [
    "# Run this code cell to get credit for creating an agent\n",
    "q_5.check()"
   ]
  },
  {
   "cell_type": "code",
   "execution_count": 12,
   "id": "f6dba787",
   "metadata": {
    "execution": {
     "iopub.execute_input": "2023-03-19T10:08:54.371419Z",
     "iopub.status.busy": "2023-03-19T10:08:54.370132Z",
     "iopub.status.idle": "2023-03-19T10:08:54.383729Z",
     "shell.execute_reply": "2023-03-19T10:08:54.382127Z"
    },
    "papermill": {
     "duration": 0.024678,
     "end_time": "2023-03-19T10:08:54.386980",
     "exception": false,
     "start_time": "2023-03-19T10:08:54.362302",
     "status": "completed"
    },
    "tags": []
   },
   "outputs": [
    {
     "name": "stdout",
     "output_type": "stream",
     "text": [
      "<function my_agent at 0x7fa1bb389680> written to submission.py\n"
     ]
    }
   ],
   "source": [
    "import inspect\n",
    "import os\n",
    "\n",
    "def write_agent_to_file(function, file):\n",
    "    with open(file, \"a\" if os.path.exists(file) else \"w\") as f:\n",
    "        f.write(inspect.getsource(function))\n",
    "        print(function, \"written to\", file)\n",
    "\n",
    "write_agent_to_file(my_agent, \"submission.py\")"
   ]
  },
  {
   "cell_type": "markdown",
   "id": "638bdb24",
   "metadata": {
    "papermill": {
     "duration": 0.007321,
     "end_time": "2023-03-19T10:08:54.401403",
     "exception": false,
     "start_time": "2023-03-19T10:08:54.394082",
     "status": "completed"
    },
    "tags": []
   },
   "source": [
    "Then, follow these steps to submit your agent to the competition:\n",
    "1. Begin by clicking on the **Save Version** button in the top right corner of the window.  This will generate a pop-up window.  \n",
    "2. Ensure that the **Save and Run All** option is selected, and then click on the **Save** button.\n",
    "3. This generates a window in the bottom left corner of the notebook.  After it has finished running, click on the number to the right of the **Save Version** button.  This pulls up a list of versions on the right of the screen.  Click on the ellipsis **(...)** to the right of the most recent version, and select **Open in Viewer**.  This brings you into view mode of the same page. You will need to scroll down to get back to these instructions.\n",
    "4. Click on the **Output** tab on the right of the screen.  Then, click on the file you would like to submit, and click on the **Submit** button to submit your results to the leaderboard.\n",
    "\n",
    "You have now successfully submitted to the competition!\n",
    "\n",
    "If you want to keep working to improve your performance, select the **Edit** button in the top right of the screen. Then you can change your code and repeat the process. There's a lot of room to improve, and you will climb up the leaderboard as you work.\n",
    "\n",
    "\n",
    "Go to **\"My Submissions\"** to view your score and episodes being played.\n",
    "\n",
    "# Keep going\n",
    "\n",
    "Move on to learn how to **[use deep reinforcement learning](https://www.kaggle.com/alexisbcook/deep-reinforcement-learning)** to develop an agent without a heuristic!"
   ]
  },
  {
   "cell_type": "markdown",
   "id": "791c2f2d",
   "metadata": {
    "papermill": {
     "duration": 0.006333,
     "end_time": "2023-03-19T10:08:54.417976",
     "exception": false,
     "start_time": "2023-03-19T10:08:54.411643",
     "status": "completed"
    },
    "tags": []
   },
   "source": [
    "---\n",
    "\n",
    "\n",
    "\n",
    "\n",
    "*Have questions or comments? Visit the [course discussion forum](https://www.kaggle.com/learn/intro-to-game-ai-and-reinforcement-learning/discussion) to chat with other learners.*"
   ]
  }
 ],
 "metadata": {
  "kernelspec": {
   "display_name": "Python 3",
   "language": "python",
   "name": "python3"
  },
  "language_info": {
   "codemirror_mode": {
    "name": "ipython",
    "version": 3
   },
   "file_extension": ".py",
   "mimetype": "text/x-python",
   "name": "python",
   "nbconvert_exporter": "python",
   "pygments_lexer": "ipython3",
   "version": "3.7.12"
  },
  "papermill": {
   "default_parameters": {},
   "duration": 12.053691,
   "end_time": "2023-03-19T10:08:55.147897",
   "environment_variables": {},
   "exception": null,
   "input_path": "__notebook__.ipynb",
   "output_path": "__notebook__.ipynb",
   "parameters": {},
   "start_time": "2023-03-19T10:08:43.094206",
   "version": "2.4.0"
  }
 },
 "nbformat": 4,
 "nbformat_minor": 5
}
